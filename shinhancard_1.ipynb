{
 "cells": [
  {
   "cell_type": "code",
   "execution_count": 6,
   "metadata": {},
   "outputs": [],
   "source": [
    "import numpy as np\n",
    "import pandas as pd\n",
    "import matplotlib.pyplot as plt\n",
    "import seaborn as sns\n",
    "import pickle\n",
    "from matplotlib import font_manager, rc\n",
    "font_name = font_manager.FontProperties(fname=\"c:/Windows/Fonts/malgun.ttf\").get_name()\n",
    "rc('font', family=font_name)"
   ]
  },
  {
   "cell_type": "code",
   "execution_count": 7,
   "metadata": {},
   "outputs": [],
   "source": [
    "%matplotlib inline"
   ]
  },
  {
   "cell_type": "code",
   "execution_count": 37,
   "metadata": {
    "scrolled": true
   },
   "outputs": [
    {
     "name": "stdout",
     "output_type": "stream",
     "text": [
      "<class 'pandas.core.frame.DataFrame'>\n",
      "Int64Index: 10 entries, 5 to 59\n",
      "Data columns (total 3 columns):\n",
      " #   Column  Non-Null Count  Dtype \n",
      "---  ------  --------------  ----- \n",
      " 0   지역      10 non-null     object\n",
      " 1   구분      10 non-null     object\n",
      " 2   2020    10 non-null     int32 \n",
      "dtypes: int32(1), object(2)\n",
      "memory usage: 280.0+ bytes\n"
     ]
    }
   ],
   "source": [
    "inchoen_move.info()"
   ]
  },
  {
   "cell_type": "code",
   "execution_count": 105,
   "metadata": {},
   "outputs": [
    {
     "data": {
      "text/html": [
       "<div>\n",
       "<style scoped>\n",
       "    .dataframe tbody tr th:only-of-type {\n",
       "        vertical-align: middle;\n",
       "    }\n",
       "\n",
       "    .dataframe tbody tr th {\n",
       "        vertical-align: top;\n",
       "    }\n",
       "\n",
       "    .dataframe thead th {\n",
       "        text-align: right;\n",
       "    }\n",
       "</style>\n",
       "<table border=\"1\" class=\"dataframe\">\n",
       "  <thead>\n",
       "    <tr style=\"text-align: right;\">\n",
       "      <th></th>\n",
       "      <th>지역</th>\n",
       "      <th>구분</th>\n",
       "      <th>2020</th>\n",
       "    </tr>\n",
       "  </thead>\n",
       "  <tbody>\n",
       "    <tr>\n",
       "      <th>53</th>\n",
       "      <td>강화군</td>\n",
       "      <td>외부방문자 전년대비증감률(%)</td>\n",
       "      <td>1</td>\n",
       "    </tr>\n",
       "    <tr>\n",
       "      <th>59</th>\n",
       "      <td>옹진군</td>\n",
       "      <td>외부방문자 전년대비증감률(%)</td>\n",
       "      <td>7</td>\n",
       "    </tr>\n",
       "  </tbody>\n",
       "</table>\n",
       "</div>"
      ],
      "text/plain": [
       "     지역                구분  2020\n",
       "53  강화군  외부방문자 전년대비증감률(%)     1\n",
       "59  옹진군  외부방문자 전년대비증감률(%)     7"
      ]
     },
     "execution_count": 105,
     "metadata": {},
     "output_type": "execute_result"
    }
   ],
   "source": [
    "inchoen_move = pd.read_csv(\"인천_move.csv\")\n",
    "inchoen_move = inchoen_move[(inchoen_move['구분']=='외부방문자 전년대비증감률(%)')]\n",
    "inchoen_move['2020'] = inchoen_move['2020'].astype(int)\n",
    "inchoen_move[inchoen_move['2020']>0]"
   ]
  },
  {
   "cell_type": "code",
   "execution_count": 109,
   "metadata": {
    "scrolled": true
   },
   "outputs": [
    {
     "name": "stdout",
     "output_type": "stream",
     "text": [
      "강원_move.csv\n",
      "      지역  2020\n",
      "101  고성군     4\n",
      "107  양양군    10\n",
      "경기_move.csv\n",
      "       지역  2020\n",
      "125   구리시     4\n",
      "131  남양주시     2\n",
      "161   하남시     6\n",
      "197   안성시     3\n",
      "227   포천시     1\n",
      "239   연천군     5\n",
      "245   가평군     3\n",
      "251   양평군     1\n",
      "경남_move.csv\n",
      "     지역  2020\n",
      "59  밀양시     7\n",
      "77  의령군     1\n",
      "95  고성군     1\n",
      "경북_move.csv\n",
      "      지역  2020\n",
      "107  고령군     5\n",
      "광주_move.csv\n",
      "Empty DataFrame\n",
      "Columns: [지역, 2020]\n",
      "Index: []\n",
      "대구_move.csv\n",
      "Empty DataFrame\n",
      "Columns: [지역, 2020]\n",
      "Index: []\n",
      "대전_move.csv\n",
      "Empty DataFrame\n",
      "Columns: [지역, 2020]\n",
      "Index: []\n",
      "부산_move.csv\n",
      "     지역  2020\n",
      "47   북구     5\n",
      "95  기장군     5\n",
      "서울_move.csv\n",
      "Empty DataFrame\n",
      "Columns: [지역, 2020]\n",
      "Index: []\n",
      "세종_move.csv\n",
      "Empty DataFrame\n",
      "Columns: [지역, 2020]\n",
      "Index: []\n",
      "울산_move.csv\n",
      "Empty DataFrame\n",
      "Columns: [지역, 2020]\n",
      "Index: []\n",
      "인천_move.csv\n",
      "     지역  2020\n",
      "53  강화군     1\n",
      "59  옹진군     7\n",
      "전남_move.csv\n",
      "      지역  2020\n",
      "53   고흥군     6\n",
      "107  영광군     1\n",
      "125  진도군     1\n",
      "전북_move.csv\n",
      "     지역  2020\n",
      "41  김제시     1\n",
      "제주_move.csv\n",
      "Empty DataFrame\n",
      "Columns: [지역, 2020]\n",
      "Index: []\n",
      "충남_move.csv\n",
      "     지역  2020\n",
      "53  당진시     1\n",
      "95  태안군     2\n",
      "충북_move.csv\n",
      "Empty DataFrame\n",
      "Columns: [지역, 2020]\n",
      "Index: []\n"
     ]
    }
   ],
   "source": [
    "Region = [\"강원_move.csv\",\"경기_move.csv\",\"경남_move.csv\",\"경북_move.csv\",\"광주_move.csv\",\"대구_move.csv\",\"대전_move.csv\",\"부산_move.csv\",\n",
    "         \"서울_move.csv\",\"세종_move.csv\",\"울산_move.csv\",\"인천_move.csv\",\"전남_move.csv\",\"전북_move.csv\",\"제주_move.csv\",\"충남_move.csv\",\n",
    "         \"충북_move.csv\"]\n",
    "result = []\n",
    "for i in Region :\n",
    "    move = pd.read_csv(i)\n",
    "    move = move[(move['구분']=='외부방문자 전년대비증감률(%)')]\n",
    "    move['2020'] = move['2020'].astype(int)\n",
    "    print(i)\n",
    "    print(move[move['2020']>0][['지역','2020']])"
   ]
  },
  {
   "cell_type": "markdown",
   "metadata": {},
   "source": [
    "강원_move.csv\n",
    "101  고성군     4\n",
    "107  양양군    10\n",
    "경기_move.csv\n",
    "125   구리시     4\n",
    "131  남양주시     2\n",
    "161   하남시     6\n",
    "197   안성시     3\n",
    "227   포천시     1\n",
    "239   연천군     5\n",
    "245   가평군     3\n",
    "251   양평군     1\n",
    "경남_move.csv\n",
    "59  밀양시     7\n",
    "77  의령군     1\n",
    "95  고성군     1\n",
    "경북_move.csv\n",
    "107  고령군     5\n",
    "부산_move.csv\n",
    "47   북구     5\n",
    "95  기장군     5\n",
    "인천_move.csv\n",
    "53  강화군     1\n",
    "59  옹진군     7\n",
    "전남_move.csv\n",
    "53   고흥군     6\n",
    "107  영광군     1\n",
    "125  진도군     1\n",
    "전북_move.csv\n",
    "41  김제시     1\n",
    "충남_move.csv\n",
    "53  당진시     1\n",
    "95  태안군     2"
   ]
  },
  {
   "cell_type": "code",
   "execution_count": 90,
   "metadata": {},
   "outputs": [
    {
     "data": {
      "text/html": [
       "<div>\n",
       "<style scoped>\n",
       "    .dataframe tbody tr th:only-of-type {\n",
       "        vertical-align: middle;\n",
       "    }\n",
       "\n",
       "    .dataframe tbody tr th {\n",
       "        vertical-align: top;\n",
       "    }\n",
       "\n",
       "    .dataframe thead th {\n",
       "        text-align: right;\n",
       "    }\n",
       "</style>\n",
       "<table border=\"1\" class=\"dataframe\">\n",
       "  <thead>\n",
       "    <tr style=\"text-align: right;\">\n",
       "      <th></th>\n",
       "      <th>지역</th>\n",
       "      <th>구분</th>\n",
       "      <th>2020</th>\n",
       "    </tr>\n",
       "  </thead>\n",
       "  <tbody>\n",
       "    <tr>\n",
       "      <th>53</th>\n",
       "      <td>당진시</td>\n",
       "      <td>외부방문자 전년대비증감률(%)</td>\n",
       "      <td>1</td>\n",
       "    </tr>\n",
       "    <tr>\n",
       "      <th>95</th>\n",
       "      <td>태안군</td>\n",
       "      <td>외부방문자 전년대비증감률(%)</td>\n",
       "      <td>2</td>\n",
       "    </tr>\n",
       "  </tbody>\n",
       "</table>\n",
       "</div>"
      ],
      "text/plain": [
       "     지역                구분  2020\n",
       "53  당진시  외부방문자 전년대비증감률(%)     1\n",
       "95  태안군  외부방문자 전년대비증감률(%)     2"
      ]
     },
     "execution_count": 90,
     "metadata": {},
     "output_type": "execute_result"
    }
   ],
   "source": [
    "result.append(move[move['2020']>0])\n",
    "result[1]\n",
    "result[2]\n",
    "result[3]\n",
    "result[7]\n",
    "result[11]\n",
    "result[12]\n",
    "result[13]\n",
    "result[15]"
   ]
  },
  {
   "cell_type": "code",
   "execution_count": 104,
   "metadata": {
    "scrolled": false
   },
   "outputs": [
    {
     "data": {
      "text/html": [
       "<div>\n",
       "<style scoped>\n",
       "    .dataframe tbody tr th:only-of-type {\n",
       "        vertical-align: middle;\n",
       "    }\n",
       "\n",
       "    .dataframe tbody tr th {\n",
       "        vertical-align: top;\n",
       "    }\n",
       "\n",
       "    .dataframe thead th {\n",
       "        text-align: right;\n",
       "    }\n",
       "</style>\n",
       "<table border=\"1\" class=\"dataframe\">\n",
       "  <thead>\n",
       "    <tr style=\"text-align: right;\">\n",
       "      <th></th>\n",
       "      <th>지역</th>\n",
       "      <th>구분</th>\n",
       "      <th>2020</th>\n",
       "    </tr>\n",
       "  </thead>\n",
       "  <tbody>\n",
       "    <tr>\n",
       "      <th>53</th>\n",
       "      <td>강화군</td>\n",
       "      <td>외부방문자 전년대비증감률(%)</td>\n",
       "      <td>1</td>\n",
       "    </tr>\n",
       "    <tr>\n",
       "      <th>59</th>\n",
       "      <td>옹진군</td>\n",
       "      <td>외부방문자 전년대비증감률(%)</td>\n",
       "      <td>7</td>\n",
       "    </tr>\n",
       "  </tbody>\n",
       "</table>\n",
       "</div>"
      ],
      "text/plain": [
       "     지역                구분  2020\n",
       "53  강화군  외부방문자 전년대비증감률(%)     1\n",
       "59  옹진군  외부방문자 전년대비증감률(%)     7"
      ]
     },
     "execution_count": 104,
     "metadata": {},
     "output_type": "execute_result"
    }
   ],
   "source": []
  },
  {
   "cell_type": "code",
   "execution_count": null,
   "metadata": {},
   "outputs": [],
   "source": []
  }
 ],
 "metadata": {
  "kernelspec": {
   "display_name": "Python 3",
   "language": "python",
   "name": "python3"
  },
  "language_info": {
   "codemirror_mode": {
    "name": "ipython",
    "version": 3
   },
   "file_extension": ".py",
   "mimetype": "text/x-python",
   "name": "python",
   "nbconvert_exporter": "python",
   "pygments_lexer": "ipython3",
   "version": "3.8.5"
  }
 },
 "nbformat": 4,
 "nbformat_minor": 4
}
