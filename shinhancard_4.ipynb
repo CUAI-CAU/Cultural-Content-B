{
 "cells": [
  {
   "cell_type": "code",
   "execution_count": 7,
   "metadata": {},
   "outputs": [],
   "source": [
    "import pandas as pd\n",
    "import numpy as np\n",
    "import matplotlib.pyplot as plt\n",
    "import seaborn as sns\n",
    "%matplotlib inline\n",
    "\n",
    "native = pd.read_csv(\"NATIVE.csv\", sep=\"|\")\n",
    "native_df = pd.DataFrame(native)"
   ]
  },
  {
   "cell_type": "code",
   "execution_count": 8,
   "metadata": {},
   "outputs": [],
   "source": [
    "drop_native=native_df.dropna(axis=0)"
   ]
  },
  {
   "cell_type": "code",
   "execution_count": 3,
   "metadata": {},
   "outputs": [],
   "source": []
  },
  {
   "cell_type": "code",
   "execution_count": 9,
   "metadata": {},
   "outputs": [
    {
     "data": {
      "text/html": [
       "<div>\n",
       "<style scoped>\n",
       "    .dataframe tbody tr th:only-of-type {\n",
       "        vertical-align: middle;\n",
       "    }\n",
       "\n",
       "    .dataframe tbody tr th {\n",
       "        vertical-align: top;\n",
       "    }\n",
       "\n",
       "    .dataframe thead th {\n",
       "        text-align: right;\n",
       "    }\n",
       "</style>\n",
       "<table border=\"1\" class=\"dataframe\">\n",
       "  <thead>\n",
       "    <tr style=\"text-align: right;\">\n",
       "      <th></th>\n",
       "      <th>v1</th>\n",
       "      <th>v2</th>\n",
       "      <th>v3</th>\n",
       "      <th>gb3</th>\n",
       "      <th>gb2</th>\n",
       "      <th>sex_ccd</th>\n",
       "      <th>cln_age_r</th>\n",
       "      <th>ta_ym</th>\n",
       "      <th>daw_ccd_r</th>\n",
       "      <th>apv_ts_dl_tm_r</th>\n",
       "      <th>vlm</th>\n",
       "      <th>usec</th>\n",
       "    </tr>\n",
       "  </thead>\n",
       "  <tbody>\n",
       "    <tr>\n",
       "      <th>0</th>\n",
       "      <td>세종</td>\n",
       "      <td>세종</td>\n",
       "      <td>.</td>\n",
       "      <td>취미오락</td>\n",
       "      <td>외식</td>\n",
       "      <td>M</td>\n",
       "      <td>30.0</td>\n",
       "      <td>201701</td>\n",
       "      <td>RED</td>\n",
       "      <td>활동</td>\n",
       "      <td>351296766</td>\n",
       "      <td>19010</td>\n",
       "    </tr>\n",
       "    <tr>\n",
       "      <th>1</th>\n",
       "      <td>세종</td>\n",
       "      <td>세종</td>\n",
       "      <td>.</td>\n",
       "      <td>취미오락</td>\n",
       "      <td>종합쇼핑</td>\n",
       "      <td>M</td>\n",
       "      <td>50.0</td>\n",
       "      <td>201701</td>\n",
       "      <td>RED</td>\n",
       "      <td>휴식</td>\n",
       "      <td>72244196</td>\n",
       "      <td>2375</td>\n",
       "    </tr>\n",
       "    <tr>\n",
       "      <th>2</th>\n",
       "      <td>세종</td>\n",
       "      <td>세종</td>\n",
       "      <td>.</td>\n",
       "      <td>취미오락</td>\n",
       "      <td>종합쇼핑</td>\n",
       "      <td>M</td>\n",
       "      <td>30.0</td>\n",
       "      <td>201701</td>\n",
       "      <td>WHITE</td>\n",
       "      <td>휴식</td>\n",
       "      <td>532911085</td>\n",
       "      <td>19979</td>\n",
       "    </tr>\n",
       "  </tbody>\n",
       "</table>\n",
       "</div>"
      ],
      "text/plain": [
       "   v1  v2 v3   gb3   gb2 sex_ccd  cln_age_r   ta_ym daw_ccd_r apv_ts_dl_tm_r  \\\n",
       "0  세종  세종  .  취미오락    외식       M       30.0  201701       RED             활동   \n",
       "1  세종  세종  .  취미오락  종합쇼핑       M       50.0  201701       RED             휴식   \n",
       "2  세종  세종  .  취미오락  종합쇼핑       M       30.0  201701     WHITE             휴식   \n",
       "\n",
       "         vlm   usec  \n",
       "0  351296766  19010  \n",
       "1   72244196   2375  \n",
       "2  532911085  19979  "
      ]
     },
     "execution_count": 9,
     "metadata": {},
     "output_type": "execute_result"
    }
   ],
   "source": [
    "native_df.head(3)"
   ]
  },
  {
   "cell_type": "code",
   "execution_count": 10,
   "metadata": {},
   "outputs": [
    {
     "data": {
      "text/plain": [
       "201908    0.020983\n",
       "201710    0.020311\n",
       "201708    0.020293\n",
       "201905    0.020252\n",
       "201808    0.020196\n",
       "201906    0.020177\n",
       "201809    0.020171\n",
       "201805    0.020163\n",
       "201705    0.020133\n",
       "201807    0.019984\n",
       "201907    0.019983\n",
       "201910    0.019982\n",
       "201707    0.019973\n",
       "201806    0.019723\n",
       "201903    0.019710\n",
       "201909    0.019707\n",
       "201911    0.019644\n",
       "201810    0.019577\n",
       "201706    0.019463\n",
       "201912    0.019432\n",
       "202008    0.019414\n",
       "201709    0.019383\n",
       "201704    0.019373\n",
       "201804    0.019347\n",
       "201904    0.019339\n",
       "201812    0.019303\n",
       "202001    0.019257\n",
       "201803    0.019179\n",
       "201811    0.019138\n",
       "201712    0.019096\n",
       "202010    0.019073\n",
       "201902    0.018975\n",
       "202007    0.018937\n",
       "201901    0.018776\n",
       "201711    0.018750\n",
       "202005    0.018734\n",
       "201703    0.018722\n",
       "202105    0.018685\n",
       "201701    0.018423\n",
       "201801    0.018408\n",
       "202006    0.018224\n",
       "202011    0.018200\n",
       "201802    0.018178\n",
       "201702    0.017815\n",
       "202104    0.017721\n",
       "202103    0.017372\n",
       "202002    0.017154\n",
       "202009    0.016820\n",
       "202004    0.016519\n",
       "202102    0.016265\n",
       "202003    0.015688\n",
       "202012    0.014981\n",
       "202101    0.014893\n",
       "Name: ta_ym, dtype: float64"
      ]
     },
     "execution_count": 10,
     "metadata": {},
     "output_type": "execute_result"
    }
   ],
   "source": [
    "native_df['ta_ym'].value_counts(normalize=True)"
   ]
  },
  {
   "cell_type": "code",
   "execution_count": 18,
   "metadata": {},
   "outputs": [
    {
     "data": {
      "image/png": "[encoded data removed]",
      "text/plain": [
       "<Figure size 432x288 with 1 Axes>"
      ]
     },
     "metadata": {
      "needs_background": "light"
     },
     "output_type": "display_data"
    },
    {
     "data": {
      "image/png": "[encoded data removed]",
      "text/plain": [
       "<Figure size 432x288 with 1 Axes>"
      ]
     },
     "metadata": {
      "needs_background": "light"
     },
     "output_type": "display_data"
    }
   ],
   "source": [
    "from matplotlib import pyplot as plt\n",
    "x_values=[1,2,3,4,5,6,7,8,9,10,11,12]\n",
    "y_values=[0.18776,0.18975,0.19710,0.19339,0.20252,0.20177,0.19983,0.20983,0.19707,0.19982,0.19964,0.19432]\n",
    "plt.plot(x_values, y_values) #line 그래프를 그립니다\n",
    "plt.xlabel(\"2019\")\n",
    "plt.ylim([0.15, 0.21])\n",
    "plt.show()\n",
    "x2_values=[1,2,3,4,5,6,7,8,9,10,11,12]\n",
    "y2_values=[0.19257,0.17154,0.15688,0.16519,0.18734,0.18224,0.18937,0.19414,0.16820,0.19073,0.18178,0.14981]\n",
    "plt.plot(x2_values, y2_values) #line 그래프를 그립니다\n",
    "plt.xlabel(\"2020\")\n",
    "plt.ylim([0.15, 0.21])\n",
    "plt.show()"
   ]
  }
 ],
 "metadata": {
  "kernelspec": {
   "display_name": "Python 3",
   "language": "python",
   "name": "python3"
  },
  "language_info": {
   "codemirror_mode": {
    "name": "ipython",
    "version": 3
   },
   "file_extension": ".py",
   "mimetype": "text/x-python",
   "name": "python",
   "nbconvert_exporter": "python",
   "pygments_lexer": "ipython3",
   "version": "3.8.5"
  }
 },
 "nbformat": 4,
 "nbformat_minor": 4
}
